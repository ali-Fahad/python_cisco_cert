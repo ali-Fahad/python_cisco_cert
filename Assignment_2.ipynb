{
 "cells": [
  {
   "cell_type": "code",
   "execution_count": 1,
   "metadata": {},
   "outputs": [
    {
     "name": "stdout",
     "output_type": "stream",
     "text": [
      "Enter Marks in English :\t78\n",
      "Enter Marks in Maths: \t72\n",
      "Enter Marks in Physics: \t89\n",
      "Enter Marks in Chemistry: \t92\n",
      "Enter Marks in Computer Science: \t85\n",
      "Congratulations ! You have passed, your grade is  A with % =  83.2\n"
     ]
    }
   ],
   "source": [
    "a=float(input(\"Enter Marks in English :\\t\"))\n",
    "b=float(input(\"Enter Marks in Maths: \\t\"))\n",
    "c=float(input(\"Enter Marks in Physics: \\t\"))\n",
    "d=float(input(\"Enter Marks in Chemistry: \\t\"))\n",
    "e=float(input(\"Enter Marks in Computer Science: \\t\"))\n",
    "avg=((a+b+c+d+e)/500)*100\n",
    "if(avg>=80):\n",
    "    \n",
    "\tprint(\"Congratulations ! You have passed, your grade is  A with % = \", avg)\n",
    "elif(avg>=70 and avg<80):\n",
    "\tprint(\"Congratulations ! You have passed, your grade is  B with % =\", avg )\n",
    "elif (avg>=60 and avg<70):\n",
    "\tprint(\"Congratulations ! You have passed, your grade is  C with % =\", avg)\n",
    "elif (avg>=50 and avg<60):\n",
    "\tprint(\"Congratulations ! You have passed, your grade is  D with % =\", avg)\n",
    "elif (avg>=40 and avg<50):\n",
    "\tprint(\"Congratulations ! You have passed, your grade is  E with % =\", avg)\n",
    "elif (avg<40):\n",
    "\tprint( \"You are fail\")"
   ]
  },
  {
   "cell_type": "code",
   "execution_count": 2,
   "metadata": {},
   "outputs": [
    {
     "name": "stdout",
     "output_type": "stream",
     "text": [
      "Enter a number: 11132\n",
      "This is an even number.\n"
     ]
    }
   ],
   "source": [
    "num = int(input(\"Enter a number: \"))\n",
    "mod = num % 2\n",
    "if mod > 0:\n",
    "    print(\"This is an odd number.\")\n",
    "else:\n",
    "    print(\"This is an even number.\")"
   ]
  },
  {
   "cell_type": "code",
   "execution_count": 3,
   "metadata": {},
   "outputs": [
    {
     "name": "stdout",
     "output_type": "stream",
     "text": [
      "The length of list is:  6\n"
     ]
    }
   ],
   "source": [
    "a = [] \n",
    "a.append(\"Dal\") \n",
    "a.append(\"Vegetable\") \n",
    "a.append(\"Fruit\") \n",
    "a.append(\"Fish\") \n",
    "a.append(\"mutton\")\n",
    "a.append(\"Sweet\")\n",
    "print(\"The length of list is: \", len(a))"
   ]
  },
  {
   "cell_type": "code",
   "execution_count": 4,
   "metadata": {},
   "outputs": [
    {
     "name": "stdout",
     "output_type": "stream",
     "text": [
      "-2\n"
     ]
    }
   ],
   "source": [
    "def sum_list(items):\n",
    "    sum_numbers = 0\n",
    "    for x in items:\n",
    "        sum_numbers += x\n",
    "    return sum_numbers\n",
    "print(sum_list([10,21,-83, 50]))"
   ]
  },
  {
   "cell_type": "code",
   "execution_count": 5,
   "metadata": {},
   "outputs": [
    {
     "name": "stdout",
     "output_type": "stream",
     "text": [
      "100\n"
     ]
    }
   ],
   "source": [
    "def max_num_in_list( list ):\n",
    "    max = list[ 0 ]\n",
    "    for a in list:\n",
    "        if a > max:\n",
    "            max = a\n",
    "    return max\n",
    "print(max_num_in_list([100, 12, -100, 99]))"
   ]
  },
  {
   "cell_type": "code",
   "execution_count": 6,
   "metadata": {},
   "outputs": [
    {
     "name": "stdout",
     "output_type": "stream",
     "text": [
      "[1, 1, 2, 3]\n"
     ]
    }
   ],
   "source": [
    "def elements_lessthan_five(l):\n",
    "    l1=[]\n",
    "    for i in l:\n",
    "        if i<5:\n",
    "            l1.append(i)\n",
    "            \n",
    "    return(l1)\n",
    "    \n",
    "print(elements_lessthan_five([1, 1, 2, 3, 5, 8, 13, 21, 34, 55, 89]))"
   ]
  },
  {
   "cell_type": "code",
   "execution_count": null,
   "metadata": {},
   "outputs": [],
   "source": []
  }
 ],
 "metadata": {
  "kernelspec": {
   "display_name": "Python 3",
   "language": "python",
   "name": "python3"
  },
  "language_info": {
   "codemirror_mode": {
    "name": "ipython",
    "version": 3
   },
   "file_extension": ".py",
   "mimetype": "text/x-python",
   "name": "python",
   "nbconvert_exporter": "python",
   "pygments_lexer": "ipython3",
   "version": "3.7.1"
  }
 },
 "nbformat": 4,
 "nbformat_minor": 2
}

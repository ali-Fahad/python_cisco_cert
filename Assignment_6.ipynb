{
 "cells": [
  {
   "cell_type": "code",
   "execution_count": 2,
   "metadata": {},
   "outputs": [
    {
     "name": "stdout",
     "output_type": "stream",
     "text": [
      "The condition of BRV is Accidented \n",
      "The Move has 4 passenger seating space\n",
      "The price of VXL is 1500985.0 pkr\n"
     ]
    }
   ],
   "source": [
    "class Cars:\n",
    "\n",
    "    def __init__(self,name,color,model,manufacturer,year):\n",
    "        self.name = name\n",
    "        self.color = color\n",
    "        self.model = model\n",
    "        self.manufacturer = manufacturer\n",
    "        self.year = year\n",
    "    \n",
    "    def status(self, cond): \n",
    "        return \"The condition of {} is {} \".format(self.name,cond)\n",
    "\n",
    "    def price(self, prc):\n",
    "        return \"The price of {} is {} pkr\".format(self.model,prc)\n",
    "    \n",
    "    def capacity(self,num):\n",
    "        return \"The {} has {} passenger seating space\".format(self.name,num)\n",
    "    \n",
    "W = Cars(\"WagonR\",\"Blue\",\"VXL\",\"Suzuki\",2018)\n",
    "X = Cars(\"Alto\",\"White\",\"Hybrid\",\"Suzuki\",2019)\n",
    "Y = Cars(\"BRV\",\"Black\",\"Hybrid\",\"Honda\",2016)\n",
    "Z = Cars(\"Corolla\",\"Blue\",\"Automatic\",\"Toyota\",2008)\n",
    "V = Cars(\"Move\",\"White\",\"eco\",\"Dihiatsu\",2017)\n",
    "\n",
    "\n",
    "print(Y.status(\"Accidented\"))\n",
    "print(V.capacity(4))\n",
    "print(W.price(1500985.00))"
   ]
  },
  {
   "cell_type": "code",
   "execution_count": null,
   "metadata": {},
   "outputs": [],
   "source": []
  },
  {
   "cell_type": "code",
   "execution_count": null,
   "metadata": {},
   "outputs": [],
   "source": []
  }
 ],
 "metadata": {
  "kernelspec": {
   "display_name": "Python 3",
   "language": "python",
   "name": "python3"
  },
  "language_info": {
   "codemirror_mode": {
    "name": "ipython",
    "version": 3
   },
   "file_extension": ".py",
   "mimetype": "text/x-python",
   "name": "python",
   "nbconvert_exporter": "python",
   "pygments_lexer": "ipython3",
   "version": "3.7.4"
  }
 },
 "nbformat": 4,
 "nbformat_minor": 2
}

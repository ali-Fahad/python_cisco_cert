{
 "cells": [
  {
   "cell_type": "code",
   "execution_count": 1,
   "metadata": {},
   "outputs": [
    {
     "name": "stdout",
     "output_type": "stream",
     "text": [
      "{'first_name': 'Jojo', 'last_name': 'kanjoos', 'age': 403, 'city': 'shamshan nagar'}\n",
      "{'first_name': 'Jojo', 'last_name': 'kanjoos', 'age': 403, 'city': 'shamshan nagar', 'high_edu': 'BE_Electronics'}\n",
      "it is final output\n",
      "{'first_name': 'Jojo', 'last_name': 'kanjoos', 'age': 403, 'city': 'shamshan nagar'}\n"
     ]
    }
   ],
   "source": [
    "#creating dictoonary for friend records\n",
    "Friend_bio = {'first_name': 'Jojo','last_name': 'kanjoos','age': 403,'city': 'shamshan nagar',}\n",
    "print (Friend_bio)\n",
    "\n",
    "#updating dictionary\n",
    "Friend_bio.update({\"high_edu\": \"BE_Electronics\"})\n",
    "print (Friend_bio)\n",
    "\n",
    "#deleting the update\n",
    "if 'high_edu' in Friend_bio:\n",
    "    del Friend_bio['high_edu']\n",
    "    print (\"it is final output\")\n",
    "    print (Friend_bio)"
   ]
  },
  {
   "cell_type": "code",
   "execution_count": 2,
   "metadata": {},
   "outputs": [
    {
     "name": "stdout",
     "output_type": "stream",
     "text": [
      "\n",
      "Karachi is in Pakistan.\n",
      "  It has a population of about 1491000.\n",
      "  The Narathar mountains are nearby.\n",
      "\n",
      "Talkeetna is in Alaska.\n",
      "  It has a population of about 876.\n",
      "  The Alaska Range mountains are nearby.\n",
      "\n",
      "Kathmandu is in Nepal.\n",
      "  It has a population of about 1003285.\n",
      "  The Himilaya mountains are nearby.\n"
     ]
    }
   ],
   "source": [
    "cities = {\n",
    "    'karachi': {\n",
    "        'country': 'Pakistan',\n",
    "        'population': 1491000,\n",
    "        'nearby mountains': 'Narathar',\n",
    "        },\n",
    "    'talkeetna': {\n",
    "        'country': 'alaska',\n",
    "        'population': 876,\n",
    "        'nearby mountains': 'alaska range',\n",
    "        },\n",
    "    'kathmandu': {\n",
    "        'country': 'nepal',\n",
    "        'population': 1003285,\n",
    "        'nearby mountains': 'himilaya',\n",
    "        }\n",
    "    }\n",
    "\n",
    "for city, city_info in cities.items():\n",
    "    country = city_info['country'].title()\n",
    "    population = city_info['population']\n",
    "    mountains = city_info['nearby mountains'].title()\n",
    "\n",
    "    print(\"\\n\" + city.title() + \" is in \" + country + \".\")\n",
    "    print(\"  It has a population of about \" + str(population) + \".\")\n",
    "    print(\"  The \" + mountains + \" mountains are nearby.\")"
   ]
  },
  {
   "cell_type": "code",
   "execution_count": 3,
   "metadata": {},
   "outputs": [
    {
     "name": "stdout",
     "output_type": "stream",
     "text": [
      "how old are you?\n",
      "Enter your Age please\n",
      "5\n",
      "  Your ticket is $10.\n"
     ]
    }
   ],
   "source": [
    "print(\"how old are you?\")\n",
    "print (\"Enter your Age please\")\n",
    "age = input()\n",
    "\n",
    "while True:\n",
    "    if age == 'quit':\n",
    "        break\n",
    "    age = int(age)  \n",
    "    if age < 3:\n",
    "        print(\"  You get in free!\")\n",
    "        break\n",
    "    elif age < 13:\n",
    "        print(\"  Your ticket is $10.\")\n",
    "        break\n",
    "    else:\n",
    "        print(\"  Your ticket is $15.\")\n",
    "        break"
   ]
  },
  {
   "cell_type": "code",
   "execution_count": 4,
   "metadata": {},
   "outputs": [
    {
     "name": "stdout",
     "output_type": "stream",
     "text": [
      "Alchemist is one of my favorite books.\n"
     ]
    }
   ],
   "source": [
    "def favorite_book(title):\n",
    "    \"\"\"Display a message about my favorite book.\"\"\"\n",
    "    print(title + \" is one of my favorite books.\")\n",
    "\n",
    "favorite_book('Alchemist')"
   ]
  },
  {
   "cell_type": "code",
   "execution_count": 5,
   "metadata": {},
   "outputs": [
    {
     "name": "stdout",
     "output_type": "stream",
     "text": [
      "Guess a number (<30): 25\n",
      "Higher...\n",
      "Guess a number (<30): 27\n",
      "Higher...\n",
      "Guess a number (<30): 29\n",
      "Lower...\n",
      "no more tries allowed\n"
     ]
    }
   ],
   "source": [
    "import random\n",
    " \n",
    "secret_number = random.randint(1, 30)\n",
    "tries, guess = 0, 0\n",
    "while guess != secret_number:\n",
    "    if tries == 3:\n",
    "        print(\"no more tries allowed\")\n",
    "        break\n",
    "    guess = int(input(\"Guess a number (<30): \"))\n",
    "    if guess > secret_number:\n",
    "        print(\"Lower...\")\n",
    "    elif guess < secret_number:\n",
    "        print(\"Higher...\")\n",
    "    tries += 1"
   ]
  },
  {
   "cell_type": "code",
   "execution_count": null,
   "metadata": {},
   "outputs": [],
   "source": []
  }
 ],
 "metadata": {
  "kernelspec": {
   "display_name": "Python 3",
   "language": "python",
   "name": "python3"
  },
  "language_info": {
   "codemirror_mode": {
    "name": "ipython",
    "version": 3
   },
   "file_extension": ".py",
   "mimetype": "text/x-python",
   "name": "python",
   "nbconvert_exporter": "python",
   "pygments_lexer": "ipython3",
   "version": "3.7.1"
  }
 },
 "nbformat": 4,
 "nbformat_minor": 2
}

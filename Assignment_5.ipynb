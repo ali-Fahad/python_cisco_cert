{
 "cells": [
  {
   "cell_type": "code",
   "execution_count": 1,
   "metadata": {},
   "outputs": [
    {
     "name": "stdout",
     "output_type": "stream",
     "text": [
      "Factorial Calculation Program\n",
      "Enter number for factorial calculation5\n",
      "The factorial of is 120\n"
     ]
    }
   ],
   "source": [
    "def factorial (x) :\n",
    "    ans = 1\n",
    "    for i in range(1,x + 1):\n",
    "        ans = ans*i\n",
    "    print(\"The factorial of is\",ans)\n",
    "    \n",
    "print(\"Factorial Calculation Program\")\n",
    "inp = int(input(\"Enter number for factorial calculation\"))\n",
    "factorial(inp)"
   ]
  },
  {
   "cell_type": "code",
   "execution_count": 2,
   "metadata": {},
   "outputs": [
    {
     "name": "stdout",
     "output_type": "stream",
     "text": [
      "Case Sensitive Program\n",
      "Enter your sentenceDO good havE gooD\n",
      "Original String :  DO good havE gooD\n",
      "No. of Upper case characters :  4\n",
      "No. of Lower case Characters :  10\n"
     ]
    }
   ],
   "source": [
    "def sentence(s):\n",
    "    d={\"UPPER_CASE\":0, \"LOWER_CASE\":0}\n",
    "    for c in s:\n",
    "        if c.isupper():\n",
    "           d[\"UPPER_CASE\"]+=1\n",
    "        elif c.islower():\n",
    "           d[\"LOWER_CASE\"]+=1\n",
    "        else:\n",
    "            pass\n",
    "    print (\"Original String : \", s)\n",
    "    print (\"No. of Upper case characters : \", d[\"UPPER_CASE\"])\n",
    "    print (\"No. of Lower case Characters : \", d[\"LOWER_CASE\"])\n",
    "\n",
    "print(\"Case Sensitive Program\")\n",
    "inp=input(\"Enter your sentence\")\n",
    "sentence(inp)"
   ]
  },
  {
   "cell_type": "code",
   "execution_count": 3,
   "metadata": {},
   "outputs": [
    {
     "name": "stdout",
     "output_type": "stream",
     "text": [
      "Enter elements of List: 2 3 45 62 66 67 87 98 \n",
      "List of even number:  [2, 62, 66, 98]\n"
     ]
    }
   ],
   "source": [
    "def evnum (E) :\n",
    "    even=[]\n",
    "    for j in E:\n",
    "        if j%2==0:\n",
    "            even.append(j)      \n",
    "    print('List of even number: ',even)\n",
    "\n",
    "x = list(map(int,input('Enter elements of List: ').split()))\n",
    "evnum (x)\n"
   ]
  },
  {
   "cell_type": "code",
   "execution_count": 6,
   "metadata": {},
   "outputs": [
    {
     "name": "stdout",
     "output_type": "stream",
     "text": [
      "Enter the desired word asia\n",
      "is a valid palindrome\n"
     ]
    }
   ],
   "source": [
    "def Palindrome(word):\n",
    "    left_pos = 0\n",
    "    right_pos = len(word) - 1\n",
    "    while right_pos >= left_pos:\n",
    "        if word[left_pos] == word[right_pos]:\n",
    "            left_pos += 1\n",
    "            right_pos -= 1\n",
    "            return \"is a valid palindrome\"\n",
    "        else:\n",
    "            return \"Not a palindrome\"\n",
    "        \n",
    "\n",
    "x = input(\"Enter the desired word \")\n",
    "print(Palindrome(x))\n",
    "        "
   ]
  },
  {
   "cell_type": "code",
   "execution_count": 9,
   "metadata": {},
   "outputs": [
    {
     "name": "stdout",
     "output_type": "stream",
     "text": [
      "Prime Number Checker\n",
      "Enter the number 3\n",
      "Is a Prime Number\n"
     ]
    }
   ],
   "source": [
    "\n",
    "def prime(n):\n",
    "    for x in range(2,n):\n",
    "        if(n % x==0):\n",
    "            return \"Not a Prime Number\"\n",
    "        return \"Is a Prime Number\" \n",
    "    else:\n",
    "        return \"Not a Prime Number\"\n",
    "\n",
    "print(\"Prime Number Checker\")\n",
    "num = int(input(\"Enter the number \"))\n",
    "print(prime(num))"
   ]
  },
  {
   "cell_type": "code",
   "execution_count": 11,
   "metadata": {},
   "outputs": [
    {
     "name": "stdout",
     "output_type": "stream",
     "text": [
      "Enter shopping items: Pen Book Notebook Geometry \n",
      "Shopping Items list\n",
      "Pen Book Notebook Geometry \n"
     ]
    }
   ],
   "source": [
    "def shopping(*items):\n",
    "    print(\"Shopping Items list\")   \n",
    "    for item in items:\n",
    "        print(item)\n",
    "   \n",
    "cart = input(\"Enter shopping items: \")\n",
    "shopping(cart)"
   ]
  },
  {
   "cell_type": "code",
   "execution_count": null,
   "metadata": {},
   "outputs": [],
   "source": []
  },
  {
   "cell_type": "code",
   "execution_count": null,
   "metadata": {},
   "outputs": [],
   "source": []
  }
 ],
 "metadata": {
  "kernelspec": {
   "display_name": "Python 3",
   "language": "python",
   "name": "python3"
  },
  "language_info": {
   "codemirror_mode": {
    "name": "ipython",
    "version": 3
   },
   "file_extension": ".py",
   "mimetype": "text/x-python",
   "name": "python",
   "nbconvert_exporter": "python",
   "pygments_lexer": "ipython3",
   "version": "3.7.1"
  }
 },
 "nbformat": 4,
 "nbformat_minor": 2
}
